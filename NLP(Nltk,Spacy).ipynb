{
  "nbformat": 4,
  "nbformat_minor": 0,
  "metadata": {
    "colab": {
      "name": "NLP(Nltk,Spacy).ipynb",
      "version": "0.3.2",
      "provenance": [],
      "collapsed_sections": []
    },
    "kernelspec": {
      "name": "python3",
      "display_name": "Python 3"
    }
  },
  "cells": [
    {
      "metadata": {
        "id": "s-K3rFX0U6u3",
        "colab_type": "text"
      },
      "cell_type": "markdown",
      "source": [
        "NLTK-SPACY    \n",
        "\n",
        "[Github-link](https://github.com/lesley2958/natural-language-processing#41-spacy)"
      ]
    },
    {
      "metadata": {
        "id": "ZfXsK5L1TTJm",
        "colab_type": "text"
      },
      "cell_type": "markdown",
      "source": [
        "**NLTK Parts of Speech** \n",
        "\n",
        "NLTK is a package in python that provides libraries for different text processing techniques, such as classification, tokenization, stemming, parsing, but important to this example, tagging"
      ]
    },
    {
      "metadata": {
        "id": "JKPxd9ruSo7U",
        "colab_type": "code",
        "colab": {
          "base_uri": "https://localhost:8080/",
          "height": 187
        },
        "outputId": "e1f45f74-2bec-4a5a-bf43-832b6299c910"
      },
      "cell_type": "code",
      "source": [
        "import nltk \n",
        "text = nltk.word_tokenize(\"NLTK is a package in python that provides librarie!\")\n",
        "nltk.pos_tag(text)"
      ],
      "execution_count": 2,
      "outputs": [
        {
          "output_type": "execute_result",
          "data": {
            "text/plain": [
              "[('NLTK', 'NNP'),\n",
              " ('is', 'VBZ'),\n",
              " ('a', 'DT'),\n",
              " ('package', 'NN'),\n",
              " ('in', 'IN'),\n",
              " ('python', 'NN'),\n",
              " ('that', 'WDT'),\n",
              " ('provides', 'VBZ'),\n",
              " ('librarie', 'NN'),\n",
              " ('!', '.')]"
            ]
          },
          "metadata": {
            "tags": []
          },
          "execution_count": 2
        }
      ]
    },
    {
      "metadata": {
        "id": "8N9ChG6wUY4b",
        "colab_type": "text"
      },
      "cell_type": "markdown",
      "source": [
        "If what DT, JJ, or any other tag is? Just try this in your python shell:"
      ]
    },
    {
      "metadata": {
        "id": "mYOIpgyITXF7",
        "colab_type": "code",
        "colab": {
          "base_uri": "https://localhost:8080/",
          "height": 85
        },
        "outputId": "53adf00f-39b0-4b2c-930f-1b6e24fc4538"
      },
      "cell_type": "code",
      "source": [
        "nltk.help.upenn_tagset('JJ')"
      ],
      "execution_count": 3,
      "outputs": [
        {
          "output_type": "stream",
          "text": [
            "JJ: adjective or numeral, ordinal\n",
            "    third ill-mannered pre-war regrettable oiled calamitous first separable\n",
            "    ectoplasmic battery-powered participatory fourth still-to-be-named\n",
            "    multilingual multi-disciplinary ...\n"
          ],
          "name": "stdout"
        }
      ]
    },
    {
      "metadata": {
        "id": "54UTxwXRUwqh",
        "colab_type": "text"
      },
      "cell_type": "markdown",
      "source": [
        "###**WORKING with spacy**\n",
        "#### removing stop_words and Lammitizing\n",
        "\n",
        "1)removing \n",
        "\n",
        "2)without removing"
      ]
    },
    {
      "metadata": {
        "id": "9y-93dJKUft4",
        "colab_type": "code",
        "colab": {}
      },
      "cell_type": "code",
      "source": [
        "# nlp=spacy.load('en')\n",
        "import spacy\n",
        "import en_core_web_sm\n",
        "from  spacy.lang.en.stop_words import STOP_WORDS\n",
        "stopword = list(STOP_WORDS)\n",
        "nlp = en_core_web_sm.load()"
      ],
      "execution_count": 0,
      "outputs": []
    },
    {
      "metadata": {
        "id": "f0o6rfu-WOm_",
        "colab_type": "code",
        "colab": {}
      },
      "cell_type": "code",
      "source": [
        "docx = nlp(\"cars feet and he was also running\")\n",
        "\n",
        "for word in docx:\n",
        "\tprint(word.text,\"lemma ==> \",word.lemma_)"
      ],
      "execution_count": 0,
      "outputs": []
    },
    {
      "metadata": {
        "id": "77yy9ZvYWSx9",
        "colab_type": "code",
        "colab": {}
      },
      "cell_type": "code",
      "source": [
        "for word in docx:\n",
        "\tif word.lemma_ != \"-PRON-\":\n",
        "\t\tprint(word.lemma_.lower().strip())"
      ],
      "execution_count": 0,
      "outputs": []
    },
    {
      "metadata": {
        "id": "N_ljbICoWWew",
        "colab_type": "code",
        "colab": {}
      },
      "cell_type": "code",
      "source": [
        "# list comprehesion \n",
        "\n",
        "lemma_ing = [word.lemma_.lower().strip() if word.lemma_ != \"-PRON-\"  else word.lower_ for word in docx]"
      ],
      "execution_count": 0,
      "outputs": []
    },
    {
      "metadata": {
        "id": "M6YGZ8OUWWcd",
        "colab_type": "code",
        "colab": {}
      },
      "cell_type": "code",
      "source": [
        "# removing stop and punctuation from the list\n",
        "for word in docx:\n",
        "  if word.is_stop == False and not word.is_punct:\n",
        "    print(word)"
      ],
      "execution_count": 0,
      "outputs": []
    },
    {
      "metadata": {
        "id": "EEu0PxeGWWZq",
        "colab_type": "code",
        "colab": {}
      },
      "cell_type": "code",
      "source": [
        "rem_stop_punctuation =[ word for word in docx if word.is_stop == False and not word.is_punct]"
      ],
      "execution_count": 0,
      "outputs": []
    },
    {
      "metadata": {
        "id": "LeV4jSMcWWVH",
        "colab_type": "code",
        "colab": {}
      },
      "cell_type": "code",
      "source": [
        "#### use the punctuation of string module\n",
        "import string\n",
        "punctuation = string.punctuation"
      ],
      "execution_count": 0,
      "outputs": []
    },
    {
      "metadata": {
        "id": "y97ef5Z2WWR1",
        "colab_type": "code",
        "colab": {}
      },
      "cell_type": "code",
      "source": [
        "from spacy.lang.en import English\n",
        "parser = English()"
      ],
      "execution_count": 0,
      "outputs": []
    },
    {
      "metadata": {
        "id": "4an7urODWWHc",
        "colab_type": "code",
        "colab": {}
      },
      "cell_type": "code",
      "source": [
        "def spacy_tokenizer(sentence):\n",
        "\tmytokens =  parser(sentence)\n",
        "\tmytokens = [word.lemma_.lower().strip() if word.lemma_ != \"-PRON-\"  else word.lower_ for word in mytokens]\n",
        "\tmytokens = [word for word in mytokens if word not in stopword and word not in punctuation]\n",
        "\treturn mytokens"
      ],
      "execution_count": 0,
      "outputs": []
    },
    {
      "metadata": {
        "id": "uekcVNtxe5X8",
        "colab_type": "text"
      },
      "cell_type": "markdown",
      "source": [
        "**Sentiment-analysis-spacy**"
      ]
    },
    {
      "metadata": {
        "id": "b2-rnz7Me_zP",
        "colab_type": "code",
        "colab": {}
      },
      "cell_type": "code",
      "source": [
        "import pandas as pd"
      ],
      "execution_count": 0,
      "outputs": []
    },
    {
      "metadata": {
        "id": "1hihhXm-fJgS",
        "colab_type": "code",
        "colab": {}
      },
      "cell_type": "code",
      "source": [
        "df_yelp = pd.read_table(r'yelp_labelled.txt',encoding='latin-1')\n",
        "df_imdb = pd.read_table(r'imdb_labelled.txt',encoding='latin-1')\n",
        "df_amz = pd.read_table(r'amazon_cells_labelled.txt',encoding='latin-1')"
      ],
      "execution_count": 0,
      "outputs": []
    },
    {
      "metadata": {
        "id": "kzmMkXcyfJdw",
        "colab_type": "code",
        "colab": {}
      },
      "cell_type": "code",
      "source": [
        ""
      ],
      "execution_count": 0,
      "outputs": []
    },
    {
      "metadata": {
        "id": "RehrUrndVd7s",
        "colab_type": "code",
        "colab": {}
      },
      "cell_type": "code",
      "source": [
        "frames = [df_yelp,df_imdb,df_amz]"
      ],
      "execution_count": 0,
      "outputs": []
    },
    {
      "metadata": {
        "id": "94snSQPZVoRs",
        "colab_type": "code",
        "outputId": "b9dc84b1-c045-462d-af0b-f9bf8ec4d4fa",
        "colab": {
          "base_uri": "https://localhost:8080/",
          "height": 34
        }
      },
      "cell_type": "code",
      "source": [
        "df_amz.columns"
      ],
      "execution_count": 0,
      "outputs": [
        {
          "output_type": "execute_result",
          "data": {
            "text/plain": [
              "Index(['So there is no way for me to plug it in here in the US unless I go by a converter.', '0'], dtype='object')"
            ]
          },
          "metadata": {
            "tags": []
          },
          "execution_count": 51
        }
      ]
    },
    {
      "metadata": {
        "id": "Xcb_OOD8Z66c",
        "colab_type": "code",
        "outputId": "e3a1c497-2a5c-4f65-f143-3c731c6e08ef",
        "colab": {
          "base_uri": "https://localhost:8080/",
          "height": 34
        }
      },
      "cell_type": "code",
      "source": [
        "# df_amz.columns"
      ],
      "execution_count": 0,
      "outputs": [
        {
          "output_type": "execute_result",
          "data": {
            "text/plain": [
              "Index(['Message', 'Target'], dtype='object')"
            ]
          },
          "metadata": {
            "tags": []
          },
          "execution_count": 55
        }
      ]
    },
    {
      "metadata": {
        "id": "nYOF_JAbVpx4",
        "colab_type": "code",
        "colab": {}
      },
      "cell_type": "code",
      "source": [
        "for colname in frames:\n",
        "\tcolname.columns = ['Message','Target']\n"
      ],
      "execution_count": 0,
      "outputs": []
    },
    {
      "metadata": {
        "id": "KDYQ-tzMWSzA",
        "colab_type": "code",
        "outputId": "42f5889d-53aa-48b9-dbbd-683f86e7ee7b",
        "colab": {
          "base_uri": "https://localhost:8080/",
          "height": 34
        }
      },
      "cell_type": "code",
      "source": [
        "df_amz.columns"
      ],
      "execution_count": 0,
      "outputs": [
        {
          "output_type": "execute_result",
          "data": {
            "text/plain": [
              "Index(['Message', 'Target'], dtype='object')"
            ]
          },
          "metadata": {
            "tags": []
          },
          "execution_count": 58
        }
      ]
    },
    {
      "metadata": {
        "id": "oP0WFVfzhSTW",
        "colab_type": "code",
        "outputId": "8215f9c5-2ee5-4c70-c135-36a513e339c5",
        "colab": {
          "base_uri": "https://localhost:8080/",
          "height": 34
        }
      },
      "cell_type": "code",
      "source": [
        "df_amz.shape\n",
        "df_imdb.shape\n",
        "df_yelp.shape"
      ],
      "execution_count": 0,
      "outputs": [
        {
          "output_type": "execute_result",
          "data": {
            "text/plain": [
              "(999, 2)"
            ]
          },
          "metadata": {
            "tags": []
          },
          "execution_count": 59
        }
      ]
    },
    {
      "metadata": {
        "id": "dfpUkHqlfJbU",
        "colab_type": "code",
        "colab": {}
      },
      "cell_type": "code",
      "source": [
        ""
      ],
      "execution_count": 0,
      "outputs": []
    },
    {
      "metadata": {
        "id": "ZWvYG1lPW1mb",
        "colab_type": "code",
        "outputId": "eb260e52-bfd0-4461-f443-97e8d757a69b",
        "colab": {
          "base_uri": "https://localhost:8080/",
          "height": 34
        }
      },
      "cell_type": "code",
      "source": [
        "df.shape"
      ],
      "execution_count": 0,
      "outputs": [
        {
          "output_type": "execute_result",
          "data": {
            "text/plain": [
              "(2987, 2)"
            ]
          },
          "metadata": {
            "tags": []
          },
          "execution_count": 61
        }
      ]
    },
    {
      "metadata": {
        "id": "IPv-HAKPW2wV",
        "colab_type": "code",
        "colab": {}
      },
      "cell_type": "code",
      "source": [
        "df.to_csv('sentiment_label_dataset.csv')"
      ],
      "execution_count": 0,
      "outputs": []
    },
    {
      "metadata": {
        "id": "jhIf1k6miAtM",
        "colab_type": "code",
        "colab": {}
      },
      "cell_type": "code",
      "source": [
        "# target is sort data and separate pos and neg separate file"
      ],
      "execution_count": 0,
      "outputs": []
    },
    {
      "metadata": {
        "id": "eQQgtfJ5khP-",
        "colab_type": "code",
        "outputId": "61da1bb9-be11-410a-8a9b-4f40b7e845c2",
        "colab": {
          "base_uri": "https://localhost:8080/",
          "height": 68
        }
      },
      "cell_type": "code",
      "source": [
        "# checking missing value\n",
        "\n",
        "df.isnull().sum()"
      ],
      "execution_count": 0,
      "outputs": [
        {
          "output_type": "execute_result",
          "data": {
            "text/plain": [
              "Message    0\n",
              "Target     0\n",
              "dtype: int64"
            ]
          },
          "metadata": {
            "tags": []
          },
          "execution_count": 64
        }
      ]
    },
    {
      "metadata": {
        "id": "v9IoDiVOlINT",
        "colab_type": "text"
      },
      "cell_type": "markdown",
      "source": [
        "###**WORKING with spacy**\n",
        "\n",
        "#### removing stop_words and Lammitizing\n",
        "\n",
        "1)removing \n",
        "2)without removing"
      ]
    },
    {
      "metadata": {
        "id": "OhNzVBllknkx",
        "colab_type": "code",
        "colab": {}
      },
      "cell_type": "code",
      "source": [
        "# nlp=spacy.load('en')\n",
        "import spacy\n",
        "import en_core_web_sm\n",
        "from  spacy.lang.en.stop_words import STOP_WORDS\n",
        "stopword = list(STOP_WORDS)\n",
        "nlp = en_core_web_sm.load()"
      ],
      "execution_count": 0,
      "outputs": []
    },
    {
      "metadata": {
        "id": "mEHjS9EPmNew",
        "colab_type": "code",
        "outputId": "8aa4406a-8065-4509-992d-fadb597814c2",
        "colab": {
          "base_uri": "https://localhost:8080/",
          "height": 136
        }
      },
      "cell_type": "code",
      "source": [
        "docx = nlp(\"cars feet and he was also running\")\n",
        "\n",
        "for word in docx:\n",
        "\tprint(word.text,\"lemma ==> \",word.lemma_)"
      ],
      "execution_count": 0,
      "outputs": [
        {
          "output_type": "stream",
          "text": [
            "cars lemma ==>  car\n",
            "feet lemma ==>  foot\n",
            "and lemma ==>  and\n",
            "he lemma ==>  -PRON-\n",
            "was lemma ==>  be\n",
            "also lemma ==>  also\n",
            "running lemma ==>  run\n"
          ],
          "name": "stdout"
        }
      ]
    },
    {
      "metadata": {
        "id": "n_Yp6Di6oE0d",
        "colab_type": "code",
        "outputId": "6187598b-13c8-40ff-fa1f-0f5309427a2d",
        "colab": {
          "base_uri": "https://localhost:8080/",
          "height": 119
        }
      },
      "cell_type": "code",
      "source": [
        "for word in docx:\n",
        "\tif word.lemma_ != \"-PRON-\":\n",
        "\t\tprint(word.lemma_.lower().strip())"
      ],
      "execution_count": 0,
      "outputs": [
        {
          "output_type": "stream",
          "text": [
            "car\n",
            "foot\n",
            "and\n",
            "be\n",
            "also\n",
            "run\n"
          ],
          "name": "stdout"
        }
      ]
    },
    {
      "metadata": {
        "id": "evzCWFaRpfVT",
        "colab_type": "code",
        "outputId": "c968e1bc-9406-4458-9467-f454f41527fc",
        "colab": {
          "base_uri": "https://localhost:8080/",
          "height": 34
        }
      },
      "cell_type": "code",
      "source": [
        "# list comprehesion \n",
        "\n",
        "lemma_ing = [word.lemma_.lower().strip() if word.lemma_ != \"-PRON-\"  else word.lower_ for word in docx]\n",
        "lemma_ing"
      ],
      "execution_count": 0,
      "outputs": [
        {
          "output_type": "execute_result",
          "data": {
            "text/plain": [
              "['car', 'foot', 'and', 'he', 'be', 'also', 'run']"
            ]
          },
          "metadata": {
            "tags": []
          },
          "execution_count": 24
        }
      ]
    },
    {
      "metadata": {
        "id": "hYWfuvVEp_eJ",
        "colab_type": "code",
        "outputId": "1b63a54a-b2e4-4543-d24c-1f8831534bfa",
        "colab": {
          "base_uri": "https://localhost:8080/",
          "height": 68
        }
      },
      "cell_type": "code",
      "source": [
        "# removing stop and punctuation from the list\n",
        "for word in docx:\n",
        "\tif word.is_stop == False and not word.is_punct:\n",
        "\t\tprint(word)"
      ],
      "execution_count": 0,
      "outputs": [
        {
          "output_type": "stream",
          "text": [
            "cars\n",
            "feet\n",
            "running\n"
          ],
          "name": "stdout"
        }
      ]
    },
    {
      "metadata": {
        "id": "FIH-a0ZFweBl",
        "colab_type": "code",
        "outputId": "dfede1b2-b7a6-4b77-ccfa-fad2552f1ad4",
        "colab": {
          "base_uri": "https://localhost:8080/",
          "height": 34
        }
      },
      "cell_type": "code",
      "source": [
        "rem_stop_punctuation =[ word for word in docx if word.is_stop == False and not word.is_punct]"
      ],
      "execution_count": 0,
      "outputs": [
        {
          "output_type": "execute_result",
          "data": {
            "text/plain": [
              "[cars, feet, running]"
            ]
          },
          "metadata": {
            "tags": []
          },
          "execution_count": 297
        }
      ]
    },
    {
      "metadata": {
        "id": "zdipJOCy2xQg",
        "colab_type": "code",
        "colab": {}
      },
      "cell_type": "code",
      "source": [
        "#### use the punctuation of string module\n",
        "import string\n",
        "punctuation = string.punctuation"
      ],
      "execution_count": 0,
      "outputs": []
    },
    {
      "metadata": {
        "id": "uTcLedCxNbTf",
        "colab_type": "code",
        "colab": {}
      },
      "cell_type": "code",
      "source": [
        "from spacy.lang.en import English\n",
        "parser = English()"
      ],
      "execution_count": 0,
      "outputs": []
    },
    {
      "metadata": {
        "id": "4HsAPv0HzXoE",
        "colab_type": "code",
        "colab": {}
      },
      "cell_type": "code",
      "source": [
        "\n",
        "def spacy_tokenizer(sentence):\n",
        "\tmytokens =  parser(sentence)\n",
        "\tmytokens = [word.lemma_.lower().strip() if word.lemma_ != \"-PRON-\"  else word.lower_ for word in mytokens]\n",
        "\tmytokens = [word for word in mytokens if word not in stopword and word not in punctuation]\n",
        "\treturn mytokens"
      ],
      "execution_count": 0,
      "outputs": []
    },
    {
      "metadata": {
        "id": "3V01iEh_fJY6",
        "colab_type": "code",
        "colab": {}
      },
      "cell_type": "code",
      "source": [
        ""
      ],
      "execution_count": 0,
      "outputs": []
    },
    {
      "metadata": {
        "id": "YsvzEKX-3lQt",
        "colab_type": "text"
      },
      "cell_type": "markdown",
      "source": [
        "###mechine learing with sklearn\n"
      ]
    },
    {
      "metadata": {
        "id": "sSy8G-VYzYmn",
        "colab_type": "code",
        "colab": {}
      },
      "cell_type": "code",
      "source": [
        " \n",
        "from sklearn.feature_extraction.text import CountVectorizer,TfidfVectorizer\n",
        "from sklearn.metrics import accuracy_score\n",
        "from sklearn.base import TransformerMixin\n",
        "from sklearn.pipeline import Pipeline\n",
        "from sklearn.svm import LinearSVC\n",
        "from sklearn.discriminant_analysis import LinearDiscriminantAnalysis"
      ],
      "execution_count": 0,
      "outputs": []
    },
    {
      "metadata": {
        "id": "-WL8SLPT5WQr",
        "colab_type": "code",
        "colab": {}
      },
      "cell_type": "code",
      "source": [
        "class predictors(TransformerMixin):\n",
        "  \n",
        "  def transform(self,X, **transform_params):\n",
        "    return [clean_text(text) for text in X]\n",
        "  \n",
        "  def fit(self,X, y=None, ** fit_params):\n",
        "    return self\n",
        "  \n",
        "  def get_params(self,deep=True):\n",
        "    return {}\n",
        "\n",
        "def clean_text(text):\n",
        "\treturn text.strip().lower()"
      ],
      "execution_count": 0,
      "outputs": []
    },
    {
      "metadata": {
        "id": "_iQvHJFh0iRP",
        "colab_type": "code",
        "colab": {}
      },
      "cell_type": "code",
      "source": [
        "from sklearn.neighbors import KNeighborsClassifier\n",
        "from sklearn.svm import SVC, LinearSVC, NuSVC\n",
        "from sklearn.ensemble import RandomForestClassifier, AdaBoostClassifier, GradientBoostingClassifier\n",
        "from sklearn.naive_bayes import GaussianNB"
      ],
      "execution_count": 0,
      "outputs": []
    },
    {
      "metadata": {
        "id": "K5V9kYs64Jh2",
        "colab_type": "code",
        "colab": {}
      },
      "cell_type": "code",
      "source": [
        "\n",
        "vectorizer = CountVectorizer(tokenizer = spacy_tokenizer,ngram_range=(1,1))\n",
        "\n",
        "classifier = LinearSVC()\n",
        "\n",
        "tfvector = TfidfVectorizer(tokenizer = spacy_tokenizer)\n"
      ],
      "execution_count": 0,
      "outputs": []
    },
    {
      "metadata": {
        "id": "IqKdnb-F4etM",
        "colab_type": "code",
        "colab": {}
      },
      "cell_type": "code",
      "source": [
        "\n",
        "#spliting the data\n",
        "from sklearn.model_selection import train_test_split"
      ],
      "execution_count": 0,
      "outputs": []
    },
    {
      "metadata": {
        "id": "oRZ3B6Ih6DRS",
        "colab_type": "code",
        "colab": {}
      },
      "cell_type": "code",
      "source": [
        "#feature lables\n",
        "X = df['Message']\n",
        "ylabels = df['Target']"
      ],
      "execution_count": 0,
      "outputs": []
    },
    {
      "metadata": {
        "id": "nv2dNYugc2Nb",
        "colab_type": "code",
        "outputId": "3fd329f2-0667-4bce-b0aa-c048e2c82200",
        "colab": {
          "base_uri": "https://localhost:8080/",
          "height": 34
        }
      },
      "cell_type": "code",
      "source": [
        "len(X)"
      ],
      "execution_count": 0,
      "outputs": [
        {
          "output_type": "execute_result",
          "data": {
            "text/plain": [
              "2987"
            ]
          },
          "metadata": {
            "tags": []
          },
          "execution_count": 67
        }
      ]
    },
    {
      "metadata": {
        "id": "R2bBx0pr6Sds",
        "colab_type": "code",
        "colab": {}
      },
      "cell_type": "code",
      "source": [
        "X_train,X_test,y_train,y_test = train_test_split(X,ylabels,test_size=0.2,random_state=42)"
      ],
      "execution_count": 0,
      "outputs": []
    },
    {
      "metadata": {
        "id": "fkHH3KJgc7ok",
        "colab_type": "code",
        "outputId": "1aac9a50-b5e9-494d-ada7-997ca786d7d0",
        "colab": {
          "base_uri": "https://localhost:8080/",
          "height": 34
        }
      },
      "cell_type": "code",
      "source": [
        " X_test.shape"
      ],
      "execution_count": 0,
      "outputs": [
        {
          "output_type": "execute_result",
          "data": {
            "text/plain": [
              "(598,)"
            ]
          },
          "metadata": {
            "tags": []
          },
          "execution_count": 85
        }
      ]
    },
    {
      "metadata": {
        "id": "v56R9-cBKNkb",
        "colab_type": "code",
        "outputId": "108d5e1c-a613-4401-c942-8daa5860ac82",
        "colab": {
          "base_uri": "https://localhost:8080/",
          "height": 1969
        }
      },
      "cell_type": "code",
      "source": [
        "# X_train.shape  #(2389,)\n",
        "# X.shape          #(2987,)\n",
        "# X_test.shape       #(598,)\n",
        "data = pd.read_csv('sentiment_label_dataset.csv')\n",
        "\n",
        "\n",
        "x = data\n",
        "y = data[:]\n",
        "\n",
        "\n",
        "x"
      ],
      "execution_count": 0,
      "outputs": [
        {
          "output_type": "execute_result",
          "data": {
            "text/html": [
              "<div>\n",
              "<style scoped>\n",
              "    .dataframe tbody tr th:only-of-type {\n",
              "        vertical-align: middle;\n",
              "    }\n",
              "\n",
              "    .dataframe tbody tr th {\n",
              "        vertical-align: top;\n",
              "    }\n",
              "\n",
              "    .dataframe thead th {\n",
              "        text-align: right;\n",
              "    }\n",
              "</style>\n",
              "<table border=\"1\" class=\"dataframe\">\n",
              "  <thead>\n",
              "    <tr style=\"text-align: right;\">\n",
              "      <th></th>\n",
              "      <th>Unnamed: 0</th>\n",
              "      <th>Unnamed: 1</th>\n",
              "      <th>Message</th>\n",
              "      <th>Target</th>\n",
              "    </tr>\n",
              "  </thead>\n",
              "  <tbody>\n",
              "    <tr>\n",
              "      <th>0</th>\n",
              "      <td>Yelp</td>\n",
              "      <td>0</td>\n",
              "      <td>Crust is not good.</td>\n",
              "      <td>0</td>\n",
              "    </tr>\n",
              "    <tr>\n",
              "      <th>1</th>\n",
              "      <td>Yelp</td>\n",
              "      <td>1</td>\n",
              "      <td>Not tasty and the texture was just nasty.</td>\n",
              "      <td>0</td>\n",
              "    </tr>\n",
              "    <tr>\n",
              "      <th>2</th>\n",
              "      <td>Yelp</td>\n",
              "      <td>2</td>\n",
              "      <td>Stopped by during the late May bank holiday of...</td>\n",
              "      <td>1</td>\n",
              "    </tr>\n",
              "    <tr>\n",
              "      <th>3</th>\n",
              "      <td>Yelp</td>\n",
              "      <td>3</td>\n",
              "      <td>The selection on the menu was great and so wer...</td>\n",
              "      <td>1</td>\n",
              "    </tr>\n",
              "    <tr>\n",
              "      <th>4</th>\n",
              "      <td>Yelp</td>\n",
              "      <td>4</td>\n",
              "      <td>Now I am getting angry and I want my damn pho.</td>\n",
              "      <td>0</td>\n",
              "    </tr>\n",
              "    <tr>\n",
              "      <th>5</th>\n",
              "      <td>Yelp</td>\n",
              "      <td>5</td>\n",
              "      <td>Honeslty it didn't taste THAT fresh.)</td>\n",
              "      <td>0</td>\n",
              "    </tr>\n",
              "    <tr>\n",
              "      <th>6</th>\n",
              "      <td>Yelp</td>\n",
              "      <td>6</td>\n",
              "      <td>The potatoes were like rubber and you could te...</td>\n",
              "      <td>0</td>\n",
              "    </tr>\n",
              "    <tr>\n",
              "      <th>7</th>\n",
              "      <td>Yelp</td>\n",
              "      <td>7</td>\n",
              "      <td>The fries were great too.</td>\n",
              "      <td>1</td>\n",
              "    </tr>\n",
              "    <tr>\n",
              "      <th>8</th>\n",
              "      <td>Yelp</td>\n",
              "      <td>8</td>\n",
              "      <td>A great touch.</td>\n",
              "      <td>1</td>\n",
              "    </tr>\n",
              "    <tr>\n",
              "      <th>9</th>\n",
              "      <td>Yelp</td>\n",
              "      <td>9</td>\n",
              "      <td>Service was very prompt.</td>\n",
              "      <td>1</td>\n",
              "    </tr>\n",
              "    <tr>\n",
              "      <th>10</th>\n",
              "      <td>Yelp</td>\n",
              "      <td>10</td>\n",
              "      <td>Would not go back.</td>\n",
              "      <td>0</td>\n",
              "    </tr>\n",
              "    <tr>\n",
              "      <th>11</th>\n",
              "      <td>Yelp</td>\n",
              "      <td>11</td>\n",
              "      <td>The cashier had no care what so ever on what I...</td>\n",
              "      <td>0</td>\n",
              "    </tr>\n",
              "    <tr>\n",
              "      <th>12</th>\n",
              "      <td>Yelp</td>\n",
              "      <td>12</td>\n",
              "      <td>I tried the Cape Cod ravoli, chicken,with cran...</td>\n",
              "      <td>1</td>\n",
              "    </tr>\n",
              "    <tr>\n",
              "      <th>13</th>\n",
              "      <td>Yelp</td>\n",
              "      <td>13</td>\n",
              "      <td>I was disgusted because I was pretty sure that...</td>\n",
              "      <td>0</td>\n",
              "    </tr>\n",
              "    <tr>\n",
              "      <th>14</th>\n",
              "      <td>Yelp</td>\n",
              "      <td>14</td>\n",
              "      <td>I was shocked because no signs indicate cash o...</td>\n",
              "      <td>0</td>\n",
              "    </tr>\n",
              "    <tr>\n",
              "      <th>15</th>\n",
              "      <td>Yelp</td>\n",
              "      <td>15</td>\n",
              "      <td>Highly recommended.</td>\n",
              "      <td>1</td>\n",
              "    </tr>\n",
              "    <tr>\n",
              "      <th>16</th>\n",
              "      <td>Yelp</td>\n",
              "      <td>16</td>\n",
              "      <td>Waitress was a little slow in service.</td>\n",
              "      <td>0</td>\n",
              "    </tr>\n",
              "    <tr>\n",
              "      <th>17</th>\n",
              "      <td>Yelp</td>\n",
              "      <td>17</td>\n",
              "      <td>This place is not worth your time, let alone V...</td>\n",
              "      <td>0</td>\n",
              "    </tr>\n",
              "    <tr>\n",
              "      <th>18</th>\n",
              "      <td>Yelp</td>\n",
              "      <td>18</td>\n",
              "      <td>did not like at all.</td>\n",
              "      <td>0</td>\n",
              "    </tr>\n",
              "    <tr>\n",
              "      <th>19</th>\n",
              "      <td>Yelp</td>\n",
              "      <td>19</td>\n",
              "      <td>The Burrittos Blah!</td>\n",
              "      <td>0</td>\n",
              "    </tr>\n",
              "    <tr>\n",
              "      <th>20</th>\n",
              "      <td>Yelp</td>\n",
              "      <td>20</td>\n",
              "      <td>The food, amazing.</td>\n",
              "      <td>1</td>\n",
              "    </tr>\n",
              "    <tr>\n",
              "      <th>21</th>\n",
              "      <td>Yelp</td>\n",
              "      <td>21</td>\n",
              "      <td>Service is also cute.</td>\n",
              "      <td>1</td>\n",
              "    </tr>\n",
              "    <tr>\n",
              "      <th>22</th>\n",
              "      <td>Yelp</td>\n",
              "      <td>22</td>\n",
              "      <td>I could care less... The interior is just beau...</td>\n",
              "      <td>1</td>\n",
              "    </tr>\n",
              "    <tr>\n",
              "      <th>23</th>\n",
              "      <td>Yelp</td>\n",
              "      <td>23</td>\n",
              "      <td>So they performed.</td>\n",
              "      <td>1</td>\n",
              "    </tr>\n",
              "    <tr>\n",
              "      <th>24</th>\n",
              "      <td>Yelp</td>\n",
              "      <td>24</td>\n",
              "      <td>That's right....the red velvet cake.....ohhh t...</td>\n",
              "      <td>1</td>\n",
              "    </tr>\n",
              "    <tr>\n",
              "      <th>25</th>\n",
              "      <td>Yelp</td>\n",
              "      <td>25</td>\n",
              "      <td>- They never brought a salad we asked for.</td>\n",
              "      <td>0</td>\n",
              "    </tr>\n",
              "    <tr>\n",
              "      <th>26</th>\n",
              "      <td>Yelp</td>\n",
              "      <td>26</td>\n",
              "      <td>This hole in the wall has great Mexican street...</td>\n",
              "      <td>1</td>\n",
              "    </tr>\n",
              "    <tr>\n",
              "      <th>27</th>\n",
              "      <td>Yelp</td>\n",
              "      <td>27</td>\n",
              "      <td>Took an hour to get our food only 4 tables in ...</td>\n",
              "      <td>0</td>\n",
              "    </tr>\n",
              "    <tr>\n",
              "      <th>28</th>\n",
              "      <td>Yelp</td>\n",
              "      <td>28</td>\n",
              "      <td>The worst was the salmon sashimi.</td>\n",
              "      <td>0</td>\n",
              "    </tr>\n",
              "    <tr>\n",
              "      <th>29</th>\n",
              "      <td>Yelp</td>\n",
              "      <td>29</td>\n",
              "      <td>Also there are combos like a burger, fries, an...</td>\n",
              "      <td>1</td>\n",
              "    </tr>\n",
              "    <tr>\n",
              "      <th>...</th>\n",
              "      <td>...</td>\n",
              "      <td>...</td>\n",
              "      <td>...</td>\n",
              "      <td>...</td>\n",
              "    </tr>\n",
              "    <tr>\n",
              "      <th>2957</th>\n",
              "      <td>Amezon</td>\n",
              "      <td>969</td>\n",
              "      <td>I plugged it in only to find out not a darn th...</td>\n",
              "      <td>0</td>\n",
              "    </tr>\n",
              "    <tr>\n",
              "      <th>2958</th>\n",
              "      <td>Amezon</td>\n",
              "      <td>970</td>\n",
              "      <td>Excellent product.</td>\n",
              "      <td>1</td>\n",
              "    </tr>\n",
              "    <tr>\n",
              "      <th>2959</th>\n",
              "      <td>Amezon</td>\n",
              "      <td>971</td>\n",
              "      <td>Earbud piece breaks easily.</td>\n",
              "      <td>0</td>\n",
              "    </tr>\n",
              "    <tr>\n",
              "      <th>2960</th>\n",
              "      <td>Amezon</td>\n",
              "      <td>972</td>\n",
              "      <td>Lousy product.</td>\n",
              "      <td>0</td>\n",
              "    </tr>\n",
              "    <tr>\n",
              "      <th>2961</th>\n",
              "      <td>Amezon</td>\n",
              "      <td>973</td>\n",
              "      <td>This phone tries very hard to do everything bu...</td>\n",
              "      <td>0</td>\n",
              "    </tr>\n",
              "    <tr>\n",
              "      <th>2962</th>\n",
              "      <td>Amezon</td>\n",
              "      <td>974</td>\n",
              "      <td>It is the best charger I have seen on the mark...</td>\n",
              "      <td>1</td>\n",
              "    </tr>\n",
              "    <tr>\n",
              "      <th>2963</th>\n",
              "      <td>Amezon</td>\n",
              "      <td>975</td>\n",
              "      <td>SWEETEST PHONE!!!</td>\n",
              "      <td>1</td>\n",
              "    </tr>\n",
              "    <tr>\n",
              "      <th>2964</th>\n",
              "      <td>Amezon</td>\n",
              "      <td>976</td>\n",
              "      <td>:-)Oh, the charger seems to work fine.</td>\n",
              "      <td>1</td>\n",
              "    </tr>\n",
              "    <tr>\n",
              "      <th>2965</th>\n",
              "      <td>Amezon</td>\n",
              "      <td>977</td>\n",
              "      <td>It fits so securely that the ear hook does not...</td>\n",
              "      <td>1</td>\n",
              "    </tr>\n",
              "    <tr>\n",
              "      <th>2966</th>\n",
              "      <td>Amezon</td>\n",
              "      <td>978</td>\n",
              "      <td>Not enough volume.</td>\n",
              "      <td>0</td>\n",
              "    </tr>\n",
              "    <tr>\n",
              "      <th>2967</th>\n",
              "      <td>Amezon</td>\n",
              "      <td>979</td>\n",
              "      <td>Echo Problem....Very unsatisfactory</td>\n",
              "      <td>0</td>\n",
              "    </tr>\n",
              "    <tr>\n",
              "      <th>2968</th>\n",
              "      <td>Amezon</td>\n",
              "      <td>980</td>\n",
              "      <td>you could only take 2 videos at a time and the...</td>\n",
              "      <td>0</td>\n",
              "    </tr>\n",
              "    <tr>\n",
              "      <th>2969</th>\n",
              "      <td>Amezon</td>\n",
              "      <td>981</td>\n",
              "      <td>don't waste your money.</td>\n",
              "      <td>0</td>\n",
              "    </tr>\n",
              "    <tr>\n",
              "      <th>2970</th>\n",
              "      <td>Amezon</td>\n",
              "      <td>982</td>\n",
              "      <td>I am going to have to be the first to negative...</td>\n",
              "      <td>0</td>\n",
              "    </tr>\n",
              "    <tr>\n",
              "      <th>2971</th>\n",
              "      <td>Amezon</td>\n",
              "      <td>983</td>\n",
              "      <td>Adapter does not provide enough charging current.</td>\n",
              "      <td>0</td>\n",
              "    </tr>\n",
              "    <tr>\n",
              "      <th>2972</th>\n",
              "      <td>Amezon</td>\n",
              "      <td>984</td>\n",
              "      <td>There was so much hype over this phone that I ...</td>\n",
              "      <td>0</td>\n",
              "    </tr>\n",
              "    <tr>\n",
              "      <th>2973</th>\n",
              "      <td>Amezon</td>\n",
              "      <td>985</td>\n",
              "      <td>You also cannot take pictures with it in the c...</td>\n",
              "      <td>0</td>\n",
              "    </tr>\n",
              "    <tr>\n",
              "      <th>2974</th>\n",
              "      <td>Amezon</td>\n",
              "      <td>986</td>\n",
              "      <td>Phone falls out easily.</td>\n",
              "      <td>0</td>\n",
              "    </tr>\n",
              "    <tr>\n",
              "      <th>2975</th>\n",
              "      <td>Amezon</td>\n",
              "      <td>987</td>\n",
              "      <td>It didn't work, people can not hear me when I ...</td>\n",
              "      <td>0</td>\n",
              "    </tr>\n",
              "    <tr>\n",
              "      <th>2976</th>\n",
              "      <td>Amezon</td>\n",
              "      <td>988</td>\n",
              "      <td>The text messaging feature is really tricky to...</td>\n",
              "      <td>0</td>\n",
              "    </tr>\n",
              "    <tr>\n",
              "      <th>2977</th>\n",
              "      <td>Amezon</td>\n",
              "      <td>989</td>\n",
              "      <td>I'm really disappointed all I have now is a ch...</td>\n",
              "      <td>0</td>\n",
              "    </tr>\n",
              "    <tr>\n",
              "      <th>2978</th>\n",
              "      <td>Amezon</td>\n",
              "      <td>990</td>\n",
              "      <td>Painful on the ear.</td>\n",
              "      <td>0</td>\n",
              "    </tr>\n",
              "    <tr>\n",
              "      <th>2979</th>\n",
              "      <td>Amezon</td>\n",
              "      <td>991</td>\n",
              "      <td>Lasted one day and then blew up.</td>\n",
              "      <td>0</td>\n",
              "    </tr>\n",
              "    <tr>\n",
              "      <th>2980</th>\n",
              "      <td>Amezon</td>\n",
              "      <td>992</td>\n",
              "      <td>disappointed.</td>\n",
              "      <td>0</td>\n",
              "    </tr>\n",
              "    <tr>\n",
              "      <th>2981</th>\n",
              "      <td>Amezon</td>\n",
              "      <td>993</td>\n",
              "      <td>Kind of flops around.</td>\n",
              "      <td>0</td>\n",
              "    </tr>\n",
              "    <tr>\n",
              "      <th>2982</th>\n",
              "      <td>Amezon</td>\n",
              "      <td>994</td>\n",
              "      <td>The screen does get smudged easily because it ...</td>\n",
              "      <td>0</td>\n",
              "    </tr>\n",
              "    <tr>\n",
              "      <th>2983</th>\n",
              "      <td>Amezon</td>\n",
              "      <td>995</td>\n",
              "      <td>What a piece of junk.. I lose more calls on th...</td>\n",
              "      <td>0</td>\n",
              "    </tr>\n",
              "    <tr>\n",
              "      <th>2984</th>\n",
              "      <td>Amezon</td>\n",
              "      <td>996</td>\n",
              "      <td>Item Does Not Match Picture.</td>\n",
              "      <td>0</td>\n",
              "    </tr>\n",
              "    <tr>\n",
              "      <th>2985</th>\n",
              "      <td>Amezon</td>\n",
              "      <td>997</td>\n",
              "      <td>The only thing that disappoint me is the infra...</td>\n",
              "      <td>0</td>\n",
              "    </tr>\n",
              "    <tr>\n",
              "      <th>2986</th>\n",
              "      <td>Amezon</td>\n",
              "      <td>998</td>\n",
              "      <td>You can not answer calls with the unit, never ...</td>\n",
              "      <td>0</td>\n",
              "    </tr>\n",
              "  </tbody>\n",
              "</table>\n",
              "<p>2987 rows × 4 columns</p>\n",
              "</div>"
            ],
            "text/plain": [
              "     Unnamed: 0  Unnamed: 1  \\\n",
              "0          Yelp           0   \n",
              "1          Yelp           1   \n",
              "2          Yelp           2   \n",
              "3          Yelp           3   \n",
              "4          Yelp           4   \n",
              "5          Yelp           5   \n",
              "6          Yelp           6   \n",
              "7          Yelp           7   \n",
              "8          Yelp           8   \n",
              "9          Yelp           9   \n",
              "10         Yelp          10   \n",
              "11         Yelp          11   \n",
              "12         Yelp          12   \n",
              "13         Yelp          13   \n",
              "14         Yelp          14   \n",
              "15         Yelp          15   \n",
              "16         Yelp          16   \n",
              "17         Yelp          17   \n",
              "18         Yelp          18   \n",
              "19         Yelp          19   \n",
              "20         Yelp          20   \n",
              "21         Yelp          21   \n",
              "22         Yelp          22   \n",
              "23         Yelp          23   \n",
              "24         Yelp          24   \n",
              "25         Yelp          25   \n",
              "26         Yelp          26   \n",
              "27         Yelp          27   \n",
              "28         Yelp          28   \n",
              "29         Yelp          29   \n",
              "...         ...         ...   \n",
              "2957     Amezon         969   \n",
              "2958     Amezon         970   \n",
              "2959     Amezon         971   \n",
              "2960     Amezon         972   \n",
              "2961     Amezon         973   \n",
              "2962     Amezon         974   \n",
              "2963     Amezon         975   \n",
              "2964     Amezon         976   \n",
              "2965     Amezon         977   \n",
              "2966     Amezon         978   \n",
              "2967     Amezon         979   \n",
              "2968     Amezon         980   \n",
              "2969     Amezon         981   \n",
              "2970     Amezon         982   \n",
              "2971     Amezon         983   \n",
              "2972     Amezon         984   \n",
              "2973     Amezon         985   \n",
              "2974     Amezon         986   \n",
              "2975     Amezon         987   \n",
              "2976     Amezon         988   \n",
              "2977     Amezon         989   \n",
              "2978     Amezon         990   \n",
              "2979     Amezon         991   \n",
              "2980     Amezon         992   \n",
              "2981     Amezon         993   \n",
              "2982     Amezon         994   \n",
              "2983     Amezon         995   \n",
              "2984     Amezon         996   \n",
              "2985     Amezon         997   \n",
              "2986     Amezon         998   \n",
              "\n",
              "                                                Message  Target  \n",
              "0                                    Crust is not good.       0  \n",
              "1             Not tasty and the texture was just nasty.       0  \n",
              "2     Stopped by during the late May bank holiday of...       1  \n",
              "3     The selection on the menu was great and so wer...       1  \n",
              "4        Now I am getting angry and I want my damn pho.       0  \n",
              "5                 Honeslty it didn't taste THAT fresh.)       0  \n",
              "6     The potatoes were like rubber and you could te...       0  \n",
              "7                             The fries were great too.       1  \n",
              "8                                        A great touch.       1  \n",
              "9                              Service was very prompt.       1  \n",
              "10                                   Would not go back.       0  \n",
              "11    The cashier had no care what so ever on what I...       0  \n",
              "12    I tried the Cape Cod ravoli, chicken,with cran...       1  \n",
              "13    I was disgusted because I was pretty sure that...       0  \n",
              "14    I was shocked because no signs indicate cash o...       0  \n",
              "15                                  Highly recommended.       1  \n",
              "16               Waitress was a little slow in service.       0  \n",
              "17    This place is not worth your time, let alone V...       0  \n",
              "18                                 did not like at all.       0  \n",
              "19                                  The Burrittos Blah!       0  \n",
              "20                                   The food, amazing.       1  \n",
              "21                                Service is also cute.       1  \n",
              "22    I could care less... The interior is just beau...       1  \n",
              "23                                   So they performed.       1  \n",
              "24    That's right....the red velvet cake.....ohhh t...       1  \n",
              "25           - They never brought a salad we asked for.       0  \n",
              "26    This hole in the wall has great Mexican street...       1  \n",
              "27    Took an hour to get our food only 4 tables in ...       0  \n",
              "28                    The worst was the salmon sashimi.       0  \n",
              "29    Also there are combos like a burger, fries, an...       1  \n",
              "...                                                 ...     ...  \n",
              "2957  I plugged it in only to find out not a darn th...       0  \n",
              "2958                                 Excellent product.       1  \n",
              "2959                        Earbud piece breaks easily.       0  \n",
              "2960                                     Lousy product.       0  \n",
              "2961  This phone tries very hard to do everything bu...       0  \n",
              "2962  It is the best charger I have seen on the mark...       1  \n",
              "2963                                  SWEETEST PHONE!!!       1  \n",
              "2964             :-)Oh, the charger seems to work fine.       1  \n",
              "2965  It fits so securely that the ear hook does not...       1  \n",
              "2966                                 Not enough volume.       0  \n",
              "2967                Echo Problem....Very unsatisfactory       0  \n",
              "2968  you could only take 2 videos at a time and the...       0  \n",
              "2969                            don't waste your money.       0  \n",
              "2970  I am going to have to be the first to negative...       0  \n",
              "2971  Adapter does not provide enough charging current.       0  \n",
              "2972  There was so much hype over this phone that I ...       0  \n",
              "2973  You also cannot take pictures with it in the c...       0  \n",
              "2974                            Phone falls out easily.       0  \n",
              "2975  It didn't work, people can not hear me when I ...       0  \n",
              "2976  The text messaging feature is really tricky to...       0  \n",
              "2977  I'm really disappointed all I have now is a ch...       0  \n",
              "2978                                Painful on the ear.       0  \n",
              "2979                   Lasted one day and then blew up.       0  \n",
              "2980                                      disappointed.       0  \n",
              "2981                              Kind of flops around.       0  \n",
              "2982  The screen does get smudged easily because it ...       0  \n",
              "2983  What a piece of junk.. I lose more calls on th...       0  \n",
              "2984                       Item Does Not Match Picture.       0  \n",
              "2985  The only thing that disappoint me is the infra...       0  \n",
              "2986  You can not answer calls with the unit, never ...       0  \n",
              "\n",
              "[2987 rows x 4 columns]"
            ]
          },
          "metadata": {
            "tags": []
          },
          "execution_count": 86
        }
      ]
    },
    {
      "metadata": {
        "id": "zvySd9mB6wyr",
        "colab_type": "code",
        "colab": {}
      },
      "cell_type": "code",
      "source": [
        "\n",
        "pipe = Pipeline([(\"cleaner\",predictors()),\n",
        "\t\t(\"vectorizer\",vectorizer),\n",
        "\t\t(\"classifier\",classifier)])"
      ],
      "execution_count": 0,
      "outputs": []
    },
    {
      "metadata": {
        "id": "jVWGqDVx7RLL",
        "colab_type": "code",
        "outputId": "5738c885-302e-4d68-a32e-3cab15a61a7c",
        "colab": {
          "base_uri": "https://localhost:8080/",
          "height": 156
        }
      },
      "cell_type": "code",
      "source": [
        "pipe.fit(X_train,y_train)"
      ],
      "execution_count": 0,
      "outputs": [
        {
          "output_type": "execute_result",
          "data": {
            "text/plain": [
              "Pipeline(memory=None,\n",
              "     steps=[('cleaner', <__main__.predictors object at 0x7f720afbd588>), ('vectorizer', CountVectorizer(analyzer='word', binary=False, decode_error='strict',\n",
              "        dtype=<class 'numpy.int64'>, encoding='utf-8', input='content',\n",
              "        lowercase=True, max_df=1.0, max_features=None, min_df=1,\n",
              "        ng...ax_iter=1000,\n",
              "     multi_class='ovr', penalty='l2', random_state=None, tol=0.0001,\n",
              "     verbose=0))])"
            ]
          },
          "metadata": {
            "tags": []
          },
          "execution_count": 88
        }
      ]
    },
    {
      "metadata": {
        "id": "gafDJvGNVtie",
        "colab_type": "code",
        "colab": {}
      },
      "cell_type": "code",
      "source": [
        "sample_prediction = pipe.predict(X_test)"
      ],
      "execution_count": 0,
      "outputs": []
    },
    {
      "metadata": {
        "id": "Pa9JGUIAdky9",
        "colab_type": "code",
        "outputId": "97c60446-ba5d-43d9-8628-eebdc84adb92",
        "colab": {
          "base_uri": "https://localhost:8080/",
          "height": 493
        }
      },
      "cell_type": "code",
      "source": [
        "sample_prediction"
      ],
      "execution_count": 0,
      "outputs": [
        {
          "output_type": "execute_result",
          "data": {
            "text/plain": [
              "array([0, 1, 0, 0, 0, 1, 0, 0, 1, 0, 0, 1, 1, 1, 0, 0, 0, 1, 1, 1, 1, 1,\n",
              "       0, 1, 1, 1, 0, 0, 1, 0, 1, 0, 0, 1, 1, 0, 1, 0, 0, 1, 1, 1, 0, 1,\n",
              "       0, 0, 1, 0, 0, 1, 1, 1, 0, 1, 0, 1, 1, 0, 0, 0, 0, 1, 0, 0, 0, 0,\n",
              "       0, 0, 0, 0, 0, 1, 1, 0, 1, 1, 1, 1, 1, 0, 1, 0, 0, 0, 0, 0, 0, 0,\n",
              "       0, 1, 0, 1, 1, 1, 1, 1, 1, 0, 1, 1, 1, 1, 0, 1, 0, 0, 1, 1, 0, 1,\n",
              "       0, 0, 1, 1, 0, 1, 1, 0, 0, 1, 0, 0, 0, 1, 1, 0, 1, 0, 0, 0, 1, 1,\n",
              "       1, 0, 1, 0, 0, 0, 0, 0, 1, 0, 0, 0, 1, 0, 0, 1, 1, 0, 1, 0, 1, 1,\n",
              "       0, 0, 1, 1, 0, 0, 0, 1, 1, 0, 1, 1, 1, 0, 1, 1, 1, 1, 0, 0, 1, 1,\n",
              "       0, 1, 0, 0, 0, 1, 0, 0, 1, 0, 1, 0, 0, 1, 1, 0, 1, 1, 0, 0, 1, 1,\n",
              "       0, 1, 1, 1, 1, 1, 0, 0, 0, 1, 1, 0, 1, 0, 0, 1, 0, 1, 0, 1, 0, 1,\n",
              "       1, 1, 1, 0, 1, 1, 1, 1, 1, 0, 1, 1, 1, 0, 0, 1, 0, 1, 0, 1, 0, 0,\n",
              "       1, 1, 0, 0, 0, 0, 0, 1, 0, 0, 1, 1, 1, 1, 1, 0, 1, 0, 1, 0, 0, 1,\n",
              "       1, 1, 1, 1, 1, 0, 0, 1, 1, 1, 0, 0, 0, 1, 0, 0, 1, 1, 0, 1, 0, 1,\n",
              "       1, 1, 0, 0, 1, 1, 0, 0, 0, 0, 1, 1, 0, 0, 0, 0, 0, 1, 1, 1, 1, 1,\n",
              "       0, 0, 1, 0, 1, 1, 0, 1, 0, 1, 0, 1, 1, 1, 1, 1, 0, 0, 1, 1, 1, 0,\n",
              "       0, 0, 1, 0, 1, 0, 1, 1, 1, 0, 1, 0, 1, 0, 1, 1, 1, 0, 1, 0, 1, 0,\n",
              "       0, 1, 0, 0, 1, 1, 0, 1, 1, 0, 1, 1, 1, 0, 0, 0, 1, 0, 1, 0, 0, 1,\n",
              "       1, 1, 1, 1, 0, 1, 1, 1, 1, 1, 1, 1, 0, 1, 1, 1, 1, 0, 1, 1, 0, 1,\n",
              "       1, 0, 0, 0, 1, 0, 1, 1, 1, 1, 1, 1, 0, 1, 1, 0, 1, 0, 0, 1, 0, 1,\n",
              "       1, 0, 1, 0, 1, 0, 0, 0, 1, 0, 1, 1, 1, 0, 0, 1, 1, 0, 1, 1, 0, 1,\n",
              "       0, 0, 1, 0, 1, 0, 1, 0, 0, 0, 0, 0, 0, 1, 1, 0, 1, 1, 1, 0, 0, 1,\n",
              "       0, 0, 1, 1, 0, 1, 0, 1, 0, 1, 0, 1, 0, 1, 0, 1, 0, 0, 0, 1, 1, 1,\n",
              "       0, 1, 0, 0, 0, 1, 0, 0, 0, 0, 0, 0, 0, 0, 1, 0, 1, 1, 0, 1, 0, 0,\n",
              "       0, 1, 0, 0, 1, 0, 1, 0, 1, 1, 1, 1, 1, 0, 1, 0, 0, 1, 0, 1, 1, 0,\n",
              "       0, 1, 1, 1, 0, 0, 0, 0, 1, 0, 1, 1, 0, 1, 1, 0, 1, 0, 0, 1, 1, 0,\n",
              "       0, 1, 0, 0, 0, 0, 0, 1, 1, 1, 0, 0, 1, 0, 1, 0, 1, 1, 1, 0, 0, 1,\n",
              "       0, 0, 1, 1, 0, 0, 0, 0, 1, 1, 1, 0, 1, 1, 1, 1, 1, 1, 1, 1, 0, 0,\n",
              "       0, 1, 1, 1])"
            ]
          },
          "metadata": {
            "tags": []
          },
          "execution_count": 90
        }
      ]
    },
    {
      "metadata": {
        "id": "mZ2Iugin-7hy",
        "colab_type": "code",
        "outputId": "22ba1009-1e7e-4835-af91-0ffb33a52369",
        "colab": {
          "base_uri": "https://localhost:8080/",
          "height": 51
        }
      },
      "cell_type": "code",
      "source": [
        "# prediction result \n",
        "#1 positive\n",
        "#2 negative\n",
        "\n",
        "# for(example,pred) in zip(X_test,sample_prediction):\n",
        "# \tprint(example,\"prediction\",pred)\n",
        "\n",
        "#acuuracy \n",
        "print(\"Accuracy:\",pipe.score(X_test,y_test))\n",
        "print(\"Acuuracy:\" , pipe.score(X_test,sample_prediction))"
      ],
      "execution_count": 0,
      "outputs": [
        {
          "output_type": "stream",
          "text": [
            "Accuracy: 0.7876254180602007\n",
            "Acuuracy: 1.0\n"
          ],
          "name": "stdout"
        }
      ]
    },
    {
      "metadata": {
        "id": "MOUER0PQcmI4",
        "colab_type": "code",
        "outputId": "2ba541d0-826c-40b9-ae0e-4130b7b567ec",
        "colab": {
          "base_uri": "https://localhost:8080/",
          "height": 34
        }
      },
      "cell_type": "code",
      "source": [
        "print(\"accuracy=\",pipe.score(X_train,y_train))"
      ],
      "execution_count": 0,
      "outputs": [
        {
          "output_type": "stream",
          "text": [
            "accuracy= 0.9820008371703641\n"
          ],
          "name": "stdout"
        }
      ]
    },
    {
      "metadata": {
        "id": "RithR-b6WBAR",
        "colab_type": "code",
        "colab": {}
      },
      "cell_type": "code",
      "source": [
        "example = [\"I do enjoy my job\",\n",
        " \"What a poor product!,I will have to get a new one\",\n",
        " \"I feel amazing!\"]\n"
      ],
      "execution_count": 0,
      "outputs": []
    },
    {
      "metadata": {
        "id": "dCH9D9t4jeF4",
        "colab_type": "code",
        "outputId": "ca04187f-8ed0-4a3a-97d9-73a77285db76",
        "colab": {
          "base_uri": "https://localhost:8080/",
          "height": 34
        }
      },
      "cell_type": "code",
      "source": [
        "docx = nlp(\"it's a fortune find the in best possible way\")\n",
        "\n",
        "rem_stop_punct = [ word for word in docx if word.is_stop == False and not word.is_punct]\n",
        "\n",
        "print((rem_stop_punct))"
      ],
      "execution_count": 0,
      "outputs": [
        {
          "output_type": "stream",
          "text": [
            "['s, fortune, find, best, possible, way]\n"
          ],
          "name": "stdout"
        }
      ]
    },
    {
      "metadata": {
        "id": "k2q6kzQsU7Lh",
        "colab_type": "code",
        "outputId": "afbe02e2-ff4f-4abd-ed61-86035bd6571d",
        "colab": {
          "base_uri": "https://localhost:8080/",
          "height": 34
        }
      },
      "cell_type": "code",
      "source": [
        "pipe.predict([\"Enjoy your day\"])\n",
        "\n",
        "# pipe.predict(example)"
      ],
      "execution_count": 0,
      "outputs": [
        {
          "output_type": "execute_result",
          "data": {
            "text/plain": [
              "array([1])"
            ]
          },
          "metadata": {
            "tags": []
          },
          "execution_count": 98
        }
      ]
    }
  ]
}